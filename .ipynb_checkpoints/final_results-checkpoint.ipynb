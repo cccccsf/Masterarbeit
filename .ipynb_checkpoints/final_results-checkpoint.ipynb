{
 "cells": [
  {
   "cell_type": "code",
   "execution_count": 1,
   "metadata": {
    "collapsed": false,
    "deletable": true,
    "editable": true
   },
   "outputs": [],
   "source": [
    "import os\n",
    "import json\n",
    "from Common import ReadIni\n",
    "from Common import Job_path"
   ]
  },
  {
   "cell_type": "code",
   "execution_count": 39,
   "metadata": {
    "collapsed": true
   },
   "outputs": [],
   "source": [
    "import numpy as np\n",
    "import matplotlib.pyplot as plt\n",
    "from scipy.optimize import curve_fit"
   ]
  },
  {
   "cell_type": "code",
   "execution_count": null,
   "metadata": {
    "collapsed": true
   },
   "outputs": [],
   "source": [
    "def coordinate_transformer(coor, sequece=True):\n",
    "    if sequece == True:\n",
    "        coor = coor[1:-1]\n",
    "        coor = coor.split(', ')\n",
    "        coordinate = []\n",
    "        for c in coor:\n",
    "            c = float(c[1:-1])\n",
    "            coordinate.append(c)\n",
    "        return coordinate\n",
    "    else:\n",
    "        coor = '({:.1f}, {:.2f})'.format(coor[0], coor[1])\n",
    "        return coor"
   ]
  },
  {
   "cell_type": "code",
   "execution_count": 2,
   "metadata": {
    "collapsed": false,
    "deletable": true,
    "editable": true
   },
   "outputs": [],
   "source": [
    "path = r'C:/Users/ccccc/PycharmProjects/Layer_Structure_Caculation\\Test'"
   ]
  },
  {
   "cell_type": "code",
   "execution_count": 3,
   "metadata": {
    "collapsed": false,
    "deletable": true,
    "editable": true
   },
   "outputs": [],
   "source": [
    "results_file = os.path.join(path, 'results.json')\n",
    "with open(results_file, 'r') as f:\n",
    "    data = json.load(f)\n",
    "results = {}\n",
    "coordinates = list(data.keys())\n",
    "coordinates_num = [coordinate_transformer(co) for co in coordinates]"
   ]
  },
  {
   "cell_type": "code",
   "execution_count": 34,
   "metadata": {
    "collapsed": false,
    "deletable": true,
    "editable": true
   },
   "outputs": [],
   "source": [
    "avdtz_results = {}\n",
    "avtqz_results = {}\n",
    "for co in coordinates:\n",
    "    if 'final reslut avdtz' in data[co]:\n",
    "        avdtz_results[co] = data[co][ 'final reslut avdtz']\n",
    "        unit = data[co][ 'final reslut avdtz']['unit']\n",
    "    if 'final reslut avtqz' in data[co]:\n",
    "        avtqz_results[co] = data[co][ 'final reslut avtqz']"
   ]
  },
  {
   "cell_type": "code",
   "execution_count": null,
   "metadata": {
    "collapsed": true
   },
   "outputs": [],
   "source": [
    "def morse(x, q, m, u, v):\n",
    "    return (q * (np.exp(-2*m*(x-u))-2*np.exp(-m*(x-u))) + v)\n",
    "\n",
    "def morse_fitting(distance, energy):\n",
    "    t = np.linspace(1.0, 9.0)\n",
    "    tstart = [  2.67307643e-02,   1.00325943e+00,   2.77132479e+00, 1.54387465e-04]\n",
    "    popt, pcov = curve_fit(morse, distance, energy, p0 = tstart, maxfev = 40000000)\n",
    "    yfit = morse(t, popt[0], popt[1], popt[2], popt[3])\n",
    "    return yfit\n",
    "\n",
    "def plot():\n",
    "    plt.plot(distance, energy_avdtz, 'ro')\n",
    "    plt.plot(t, yfit)\n",
    "    plt.legend()\n",
    "    plt.ylim([-0.03, 0.001])\n",
    "    plt.ylabel('E (Hartree/atom).')\n",
    "    plt.xlabel('Interlayer Distance (Å)')\n",
    "    #plt.savefig(\"PBE0_int.png\", dpi=700, bbox_inches='tight')\n",
    "    \n",
    "    plt.show()"
   ]
  },
  {
   "cell_type": "code",
   "execution_count": 35,
   "metadata": {
    "collapsed": false,
    "deletable": true,
    "editable": true
   },
   "outputs": [],
   "source": [
    "#  PES according to layer distance\n",
    "x_value = 2.5\n",
    "x_coords = [ c for c in coordinates_num if c[0]==x_value]\n",
    "x_coords.sort(key=lambda x: x[1])\n",
    "distance = [coor[1] for coor in  x_coords]\n",
    "energy_avdtz = []\n",
    "energy_avtqz = []\n",
    "for coor in x_coords:\n",
    "    for c in coordinates:\n",
    "        c_nu = coordinate_transformer(c)\n",
    "        if c_nu == coor and c:\n",
    "            if c in avdtz_results:\n",
    "                energy_avdtz.append(avdtz_results[c]['energy'])\n",
    "            if c in avtqz_results:\n",
    "            energy_avtqz.append(avtqz_results[c]['energy'])"
   ]
  },
  {
   "cell_type": "code",
   "execution_count": 64,
   "metadata": {
    "collapsed": false,
    "scrolled": true
   },
   "outputs": [
    {
     "name": "stderr",
     "output_type": "stream",
     "text": [
      "C:\\Users\\ccccc\\AppData\\Local\\Enthought\\Canopy\\edm\\envs\\User\\lib\\site-packages\\matplotlib\\axes\\_axes.py:545: UserWarning: No labelled objects found. Use label='...' kwarg on individual plots.\n",
      "  warnings.warn(\"No labelled objects found. \"\n"
     ]
    },
    {
     "data": {
      "image/png": "[encoded data removed]",
      "text/plain": [
       "<matplotlib.figure.Figure at 0x25b599f7b38>"
      ]
     },
     "metadata": {},
     "output_type": "display_data"
    }
   ],
   "source": [
    "morse_fitting(distance, energy_avdtz)\n",
    "plot()"
   ]
  },
  {
   "cell_type": "code",
   "execution_count": 65,
   "metadata": {
    "collapsed": false
   },
   "outputs": [
    {
     "name": "stderr",
     "output_type": "stream",
     "text": [
      "C:\\Users\\ccccc\\AppData\\Local\\Enthought\\Canopy\\edm\\envs\\User\\lib\\site-packages\\matplotlib\\axes\\_axes.py:545: UserWarning: No labelled objects found. Use label='...' kwarg on individual plots.\n",
      "  warnings.warn(\"No labelled objects found. \"\n"
     ]
    },
    {
     "data": {
      "image/png": "[encoded data removed]",
      "text/plain": [
       "<matplotlib.figure.Figure at 0x25b59a4e4e0>"
      ]
     },
     "metadata": {},
     "output_type": "display_data"
    }
   ],
   "source": [
    "morse_fitting(distance, energy_avtqz)\n",
    "plot()"
   ]
  },
  {
   "cell_type": "code",
   "execution_count": 75,
   "metadata": {
    "collapsed": false,
    "deletable": true,
    "editable": true,
    "scrolled": false
   },
   "outputs": [],
   "source": [
    "# \n",
    "x = set(coor[0] for coor in coordinates_num)\n",
    "x_list = list(x)\n",
    "enegy_list = []\n",
    "for x in x:\n",
    "    min_e = 0\n",
    "    for key, value in avtqz_results.items():\n",
    "        if value['x'] == x:\n",
    "             if value['energy'] < min_e:\n",
    "                    min_e = value['energy']\n",
    "    enegy_list.append(min_e)"
   ]
  },
  {
   "cell_type": "code",
   "execution_count": 76,
   "metadata": {
    "collapsed": false,
    "deletable": true,
    "editable": true
   },
   "outputs": [
    {
     "data": {
      "text/plain": [
       "[-0.026797777266649895,\n",
       " -0.024939412384376185,\n",
       " -0.020506502849806887,\n",
       " -0.020323604453515824,\n",
       " -0.0183545869883323]"
      ]
     },
     "execution_count": 76,
     "metadata": {},
     "output_type": "execute_result"
    }
   ],
   "source": [
    "enegy_list"
   ]
  },
  {
   "cell_type": "code",
   "execution_count": 82,
   "metadata": {
    "collapsed": false
   },
   "outputs": [
    {
     "data": {
      "image/png": "[encoded data removed]",
      "text/plain": [
       "<matplotlib.figure.Figure at 0x25b59936da0>"
      ]
     },
     "metadata": {},
     "output_type": "display_data"
    }
   ],
   "source": [
    "f1 = plt.figure(1)\n",
    "plt.scatter(x_list, enegy_list)\n",
    "plt.ylim([-0.03, -0.015])\n",
    "plt.show()"
   ]
  },
  {
   "cell_type": "code",
   "execution_count": 78,
   "metadata": {
    "collapsed": false
   },
   "outputs": [
    {
     "data": {
      "image/png": "[encoded data removed]",
      "text/plain": [
       "<matplotlib.figure.Figure at 0x25b59ab0470>"
      ]
     },
     "metadata": {},
     "output_type": "display_data"
    }
   ],
   "source": [
    "plt.show()"
   ]
  },
  {
   "cell_type": "code",
   "execution_count": null,
   "metadata": {
    "collapsed": true
   },
   "outputs": [],
   "source": []
  }
 ],
 "metadata": {
  "kernelspec": {
   "display_name": "Python 3",
   "language": "python",
   "name": "python3"
  },
  "language_info": {
   "codemirror_mode": {
    "name": "ipython",
    "version": 3
   },
   "file_extension": ".py",
   "mimetype": "text/x-python",
   "name": "python",
   "nbconvert_exporter": "python",
   "pygments_lexer": "ipython3",
   "version": "3.5.2"
  }
 },
 "nbformat": 4,
 "nbformat_minor": 0
}
