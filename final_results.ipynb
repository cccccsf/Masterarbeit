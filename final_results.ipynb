{
 "cells": [
  {
   "cell_type": "code",
   "execution_count": 2,
   "metadata": {
    "collapsed": false,
    "deletable": true,
    "editable": true
   },
   "outputs": [],
   "source": [
    "import os\n",
    "import json\n",
    "from Common import ReadIni\n",
    "from Common import Job"
   ]
  },
  {
   "cell_type": "code",
   "execution_count": 3,
   "metadata": {
    "collapsed": true,
    "deletable": true,
    "editable": true
   },
   "outputs": [],
   "source": [
    "import numpy as np\n",
    "import matplotlib.pyplot as plt\n",
    "from scipy.optimize import curve_fit"
   ]
  },
  {
   "cell_type": "code",
   "execution_count": 4,
   "metadata": {
    "collapsed": true,
    "deletable": true,
    "editable": true
   },
   "outputs": [],
   "source": [
    "def coordinate_transformer(coor, sequece=True):\n",
    "    if sequece == True:\n",
    "        coor = coor[1:-1]\n",
    "        coor = coor.split(', ')\n",
    "        coordinate = []\n",
    "        for c in coor:\n",
    "            c = float(c[1:-1])\n",
    "            coordinate.append(c)\n",
    "        return coordinate\n",
    "    else:\n",
    "        coor = '({:.1f}, {:.2f})'.format(coor[0], coor[1])\n",
    "        return coor"
   ]
  },
  {
   "cell_type": "code",
   "execution_count": 5,
   "metadata": {
    "collapsed": false,
    "deletable": true,
    "editable": true
   },
   "outputs": [],
   "source": [
    "path = r'C:/Users/ccccc/PycharmProjects/Layer_Structure_Caculation\\Test'"
   ]
  },
  {
   "cell_type": "code",
   "execution_count": 7,
   "metadata": {
    "collapsed": false,
    "deletable": true,
    "editable": true
   },
   "outputs": [],
   "source": [
    "results_file = os.path.join(path, 'results.json')\n",
    "with open(results_file, 'r') as f:\n",
    "    data = json.load(f)\n",
    "results = {}\n",
    "coordinates = list(data.keys())\n",
    "coordinates_num = [coordinate_transformer(co) for co in coordinates]"
   ]
  },
  {
   "cell_type": "code",
   "execution_count": 8,
   "metadata": {
    "collapsed": false,
    "deletable": true,
    "editable": true
   },
   "outputs": [],
   "source": [
    "avdtz_results = {}\n",
    "avtqz_results = {}\n",
    "for co in coordinates:\n",
    "    if 'final reslut avdtz' in data[co]:\n",
    "        avdtz_results[co] = data[co][ 'final reslut avdtz']\n",
    "        unit = data[co][ 'final reslut avdtz']['unit']\n",
    "    if 'final reslut avtqz' in data[co]:\n",
    "        avtqz_results[co] = data[co][ 'final reslut avtqz']"
   ]
  },
  {
   "cell_type": "code",
   "execution_count": 9,
   "metadata": {
    "collapsed": true,
    "deletable": true,
    "editable": true
   },
   "outputs": [],
   "source": [
    "def morse(x, q, m, u, v):\n",
    "    return (q * (np.exp(-2*m*(x-u))-2*np.exp(-m*(x-u))) + v)\n",
    "\n",
    "def morse_fitting(distance, energy):\n",
    "    t = np.linspace(1.0, 9.0)\n",
    "    tstart = [  2.67307643e-02,   1.00325943e+00,   2.77132479e+00, 1.54387465e-04]\n",
    "    popt, pcov = curve_fit(morse, distance, energy, p0 = tstart, maxfev = 40000000)\n",
    "    yfit = morse(t, popt[0], popt[1], popt[2], popt[3])\n",
    "    return yfit\n",
    "\n",
    "def plot(yfit, energy):\n",
    "    plt.plot(distance, energy, 'ro')\n",
    "    plt.plot(t, yfit)\n",
    "    plt.legend()\n",
    "    plt.ylim([-0.03, 0.001])\n",
    "    plt.ylabel('E (Hartree/atom).')\n",
    "    plt.xlabel('Interlayer Distance (Å)')\n",
    "    #plt.savefig(\"PBE0_int.png\", dpi=700, bbox_inches='tight')\n",
    "    \n",
    "    plt.show()"
   ]
  },
  {
   "cell_type": "code",
   "execution_count": 10,
   "metadata": {
    "collapsed": true,
    "deletable": true,
    "editable": true
   },
   "outputs": [],
   "source": [
    "def buckingham(x, a, b, c):\n",
    "    return (a * np.exp(-b * x) - c / x**4)\n",
    "\n",
    "def buckingham_fitting(distance, energy):\n",
    "    t = np.linspace(1.0, 9.0)\n",
    "    tstart = [35.28686536, 2.47335119, 3.7801102]\n",
    "    popt, pcov = curve_fit(buckingham, distance, energy, p0 = tstart, maxfev = 40000000)\n",
    "    yfit = buckingham(t, popt[0], popt[1], popt[2])\n",
    "    print(popt)\n",
    "    return yfit"
   ]
  },
  {
   "cell_type": "code",
   "execution_count": 16,
   "metadata": {
    "collapsed": false,
    "deletable": true,
    "editable": true
   },
   "outputs": [],
   "source": [
    "#  PES according to layer distance\n",
    "x_value = 2.5\n",
    "x_coords = [ c for c in coordinates_num if c[0]==x_value]\n",
    "x_coords.sort(key=lambda x: x[1])\n",
    "distance = [coor[1] for coor in  x_coords]\n",
    "energy_avdtz = []\n",
    "energy_avtqz = []\n",
    "for coor in x_coords:\n",
    "    for c in coordinates:\n",
    "        c_nu = coordinate_transformer(c)\n",
    "        if c_nu == coor and c:\n",
    "            if c in avdtz_results:\n",
    "                energy_avdtz.append(avdtz_results[c]['energy'])\n",
    "            if c in avtqz_results:\n",
    "                energy_avtqz.append(avtqz_results[c]['energy'])"
   ]
  },
  {
   "cell_type": "code",
   "execution_count": 17,
   "metadata": {
    "collapsed": false
   },
   "outputs": [
    {
     "name": "stdout",
     "output_type": "stream",
     "text": [
      "-0.0006519575507683031\n",
      "-0.0006861653851160809\n",
      "-0.0006587417568386357\n",
      "-0.0006166473546425513\n",
      "-0.0004641814202058683\n",
      "-0.00031625969239709414\n",
      "-0.00012681051140409235\n",
      "-5.1587997211916876e-05\n",
      "-1.2710252229437801e-05\n"
     ]
    }
   ],
   "source": [
    "for i in energy_avdtz:\n",
    "    i *=27\n",
    "    i /= 1000\n",
    "    print(i)"
   ]
  },
  {
   "cell_type": "code",
   "execution_count": 12,
   "metadata": {
    "collapsed": false,
    "deletable": true,
    "editable": true,
    "scrolled": true
   },
   "outputs": [
    {
     "ename": "TypeError",
     "evalue": "plot() missing 2 required positional arguments: 'yfit' and 'energy'",
     "output_type": "error",
     "traceback": [
      "\u001b[1;31m---------------------------------------------------------------------------\u001b[0m",
      "\u001b[1;31mTypeError\u001b[0m                                 Traceback (most recent call last)",
      "\u001b[1;32m<ipython-input-12-0c83bb4af0cb>\u001b[0m in \u001b[0;36m<module>\u001b[1;34m()\u001b[0m\n\u001b[0;32m      1\u001b[0m \u001b[0mmorse_fitting\u001b[0m\u001b[1;33m(\u001b[0m\u001b[0mdistance\u001b[0m\u001b[1;33m,\u001b[0m \u001b[0menergy_avdtz\u001b[0m\u001b[1;33m)\u001b[0m\u001b[1;33m\u001b[0m\u001b[0m\n\u001b[1;32m----> 2\u001b[1;33m \u001b[0mplot\u001b[0m\u001b[1;33m(\u001b[0m\u001b[1;33m)\u001b[0m\u001b[1;33m\u001b[0m\u001b[0m\n\u001b[0m",
      "\u001b[1;31mTypeError\u001b[0m: plot() missing 2 required positional arguments: 'yfit' and 'energy'"
     ]
    }
   ],
   "source": [
    "morse_fitting(distance, energy_avdtz)\n",
    "plot()"
   ]
  },
  {
   "cell_type": "code",
   "execution_count": 65,
   "metadata": {
    "collapsed": false,
    "deletable": true,
    "editable": true
   },
   "outputs": [
    {
     "name": "stderr",
     "output_type": "stream",
     "text": [
      "C:\\Users\\ccccc\\AppData\\Local\\Enthought\\Canopy\\edm\\envs\\User\\lib\\site-packages\\matplotlib\\axes\\_axes.py:545: UserWarning: No labelled objects found. Use label='...' kwarg on individual plots.\n",
      "  warnings.warn(\"No labelled objects found. \"\n"
     ]
    },
    {
     "data": {
      "image/png": "[encoded data removed]",
      "text/plain": [
       "<matplotlib.figure.Figure at 0x25b59a4e4e0>"
      ]
     },
     "metadata": {},
     "output_type": "display_data"
    }
   ],
   "source": [
    "morse_fitting(distance, energy_avtqz)\n",
    "plot()"
   ]
  },
  {
   "cell_type": "code",
   "execution_count": 75,
   "metadata": {
    "collapsed": false,
    "deletable": true,
    "editable": true,
    "scrolled": false
   },
   "outputs": [],
   "source": [
    "# \n",
    "x = set(coor[0] for coor in coordinates_num)\n",
    "x_list = list(x)\n",
    "enegy_list = []\n",
    "# look for the minimal energy of each x\n",
    "for x in x:\n",
    "    min_e = 0\n",
    "    for key, value in avtqz_results.items():\n",
    "        if value['x'] == x:\n",
    "             if value['energy'] < min_e:\n",
    "                    min_e = value['energy']\n",
    "    enegy_list.append(min_e)"
   ]
  },
  {
   "cell_type": "code",
   "execution_count": 76,
   "metadata": {
    "collapsed": false,
    "deletable": true,
    "editable": true
   },
   "outputs": [
    {
     "data": {
      "text/plain": [
       "[-0.026797777266649895,\n",
       " -0.024939412384376185,\n",
       " -0.020506502849806887,\n",
       " -0.020323604453515824,\n",
       " -0.0183545869883323]"
      ]
     },
     "execution_count": 76,
     "metadata": {},
     "output_type": "execute_result"
    }
   ],
   "source": [
    "enegy_list"
   ]
  },
  {
   "cell_type": "code",
   "execution_count": 104,
   "metadata": {
    "collapsed": false,
    "deletable": true,
    "editable": true
   },
   "outputs": [
    {
     "data": {
      "image/png": "[encoded data removed]",
      "text/plain": [
       "<matplotlib.figure.Figure at 0x25b598b2b00>"
      ]
     },
     "metadata": {},
     "output_type": "display_data"
    }
   ],
   "source": [
    "f1 = plt.figure(1)\n",
    "plt.scatter(x_list, enegy_list)\n",
    "plt.ylim([-0.03, -0.015])\n",
    "plt.show()"
   ]
  },
  {
   "cell_type": "code",
   "execution_count": 103,
   "metadata": {
    "collapsed": false,
    "deletable": true,
    "editable": true
   },
   "outputs": [
    {
     "data": {
      "text/plain": [
       "[-0.0183545869883323, -0.017282144774705577, -0.01573736931495957]"
      ]
     },
     "execution_count": 103,
     "metadata": {},
     "output_type": "execute_result"
    }
   ],
   "source": [
    "energy_avtqz"
   ]
  },
  {
   "cell_type": "code",
   "execution_count": 132,
   "metadata": {
    "collapsed": false,
    "deletable": true,
    "editable": true
   },
   "outputs": [
    {
     "name": "stdout",
     "output_type": "stream",
     "text": [
      "[ 35.28732665   2.47335789   3.78009938]\n"
     ]
    },
    {
     "name": "stderr",
     "output_type": "stream",
     "text": [
      "C:\\Users\\ccccc\\AppData\\Local\\Enthought\\Canopy\\edm\\envs\\User\\lib\\site-packages\\matplotlib\\axes\\_axes.py:545: UserWarning: No labelled objects found. Use label='...' kwarg on individual plots.\n",
      "  warnings.warn(\"No labelled objects found. \"\n"
     ]
    },
    {
     "data": {
      "image/png": "[encoded data removed]",
      "text/plain": [
       "<matplotlib.figure.Figure at 0x25b59aa32b0>"
      ]
     },
     "metadata": {},
     "output_type": "display_data"
    }
   ],
   "source": [
    "y_fit = buckingham_fitting(distance, energy_avdtz)\n",
    "plot(y_fit, energy_avtqz)"
   ]
  },
  {
   "cell_type": "code",
   "execution_count": 124,
   "metadata": {
    "collapsed": false,
    "deletable": true,
    "editable": true
   },
   "outputs": [
    {
     "data": {
      "text/plain": [
       "array([  2.67307649e-02,   1.00325934e+00,   2.77132478e+00,\n",
       "         1.54388526e-04])"
      ]
     },
     "execution_count": 124,
     "metadata": {},
     "output_type": "execute_result"
    }
   ],
   "source": [
    "popt"
   ]
  },
  {
   "cell_type": "code",
   "execution_count": null,
   "metadata": {
    "collapsed": true,
    "deletable": true,
    "editable": true
   },
   "outputs": [],
   "source": []
  }
 ],
 "metadata": {
  "kernelspec": {
   "display_name": "Python 3",
   "language": "python",
   "name": "python3"
  },
  "language_info": {
   "codemirror_mode": {
    "name": "ipython",
    "version": 3
   },
   "file_extension": ".py",
   "mimetype": "text/x-python",
   "name": "python",
   "nbconvert_exporter": "python",
   "pygments_lexer": "ipython3",
   "version": "3.5.2"
  }
 },
 "nbformat": 4,
 "nbformat_minor": 0
}
